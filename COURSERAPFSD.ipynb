{
  "nbformat": 4,
  "nbformat_minor": 0,
  "metadata": {
    "colab": {
      "provenance": [],
      "authorship_tag": "ABX9TyMocCYA4mhpQG4Zi32Bmh+z",
      "include_colab_link": true
    },
    "kernelspec": {
      "name": "python3",
      "display_name": "Python 3"
    },
    "language_info": {
      "name": "python"
    }
  },
  "cells": [
    {
      "cell_type": "markdown",
      "metadata": {
        "id": "view-in-github",
        "colab_type": "text"
      },
      "source": [
        "<a href=\"https://colab.research.google.com/github/Durgajayasai1/About-me/blob/main/COURSERAPFSD.ipynb\" target=\"_parent\"><img src=\"https://colab.research.google.com/assets/colab-badge.svg\" alt=\"Open In Colab\"/></a>"
      ]
    },
    {
      "cell_type": "code",
      "execution_count": 2,
      "metadata": {
        "colab": {
          "base_uri": "https://localhost:8080/"
        },
        "id": "tO9Ao8fOkVbi",
        "outputId": "27df63d7-a112-4028-cba5-66a73d35194d"
      },
      "outputs": [
        {
          "output_type": "stream",
          "name": "stdout",
          "text": [
            "2585\n"
          ]
        }
      ],
      "source": [
        "from urllib import request\n",
        "from bs4 import BeautifulSoup\n",
        "html=request.urlopen('http://py4e-data.dr-chuck.net/comments_1741331.html').read()\n",
        "soup = BeautifulSoup(html)\n",
        "tags=soup('span')\n",
        "sum=0\n",
        "for tag in tags:\n",
        "    sum=sum+int(tag.contents[0])\n",
        "print(sum)"
      ]
    },
    {
      "cell_type": "code",
      "source": [
        "from bs4 import BeautifulSoup\n",
        "import urllib.request, urllib.parse, urllib.error\n",
        "import ssl\n",
        "import re\n",
        "\n",
        "ctx = ssl.create_default_context()\n",
        "ctx.check_hostname = False\n",
        "ctx.verify_mode = ssl.CERT_NONE\n",
        "url = \"http://py4e-data.dr-chuck.net/known_by_Abigail.html\"\n",
        "\n",
        "# to repeat 7 times#\n",
        "for i in range(7):\n",
        "    html = urllib.request.urlopen(url, context=ctx).read()\n",
        "    soup = BeautifulSoup(html, 'html.parser')\n",
        "    tags = soup('a')\n",
        "    count = 0\n",
        "    for tag in tags:\n",
        "        count = count + 1\n",
        "\n",
        "        # make it stop at position 3#\n",
        "        if count > 18:\n",
        "            break\n",
        "        url = tag.get('href', None)\n",
        "\n",
        "print(url)"
      ],
      "metadata": {
        "colab": {
          "base_uri": "https://localhost:8080/"
        },
        "id": "vIBUax5Ik1aP",
        "outputId": "bc40d7e6-cc1c-4cf1-f2d8-05cfde68109b"
      },
      "execution_count": 11,
      "outputs": [
        {
          "output_type": "stream",
          "name": "stdout",
          "text": [
            "http://py4e-data.dr-chuck.net/known_by_Fabian.html\n"
          ]
        }
      ]
    },
    {
      "cell_type": "code",
      "source": [
        "import urllib.request, urllib.parse, urllib.error\n",
        "import xml.etree.ElementTree as ET\n",
        "\n",
        "url = input ('Enter url: ')\n",
        "print('Retrieving', url)\n",
        "\n",
        "total = 0\n",
        "count = 0\n",
        "\n",
        "uh = urllib.request.urlopen(url)\n",
        "data = uh.read()\n",
        "print('Retrieved', len(data), 'characters')\n",
        "\n",
        "tree = ET.fromstring(data)\n",
        "lst = tree.findall ('comments/comment')\n",
        "\n",
        "for item in lst:\n",
        "    count = count + 1\n",
        "    t = item.find ('count').text\n",
        "    total = total + float (t)\n",
        "    \n",
        "print ('Count:', count)\n",
        "print ('Sum:' , total)"
      ],
      "metadata": {
        "colab": {
          "base_uri": "https://localhost:8080/",
          "height": 380
        },
        "id": "ZH7GP9KDo_4k",
        "outputId": "264d0bf5-5e09-4214-9e51-f0465de447bd"
      },
      "execution_count": 13,
      "outputs": [
        {
          "output_type": "error",
          "ename": "KeyboardInterrupt",
          "evalue": "ignored",
          "traceback": [
            "\u001b[0;31m---------------------------------------------------------------------------\u001b[0m",
            "\u001b[0;31mKeyboardInterrupt\u001b[0m                         Traceback (most recent call last)",
            "\u001b[0;32m<ipython-input-13-379bbb1d7222>\u001b[0m in \u001b[0;36m<module>\u001b[0;34m\u001b[0m\n\u001b[1;32m      2\u001b[0m \u001b[0;32mimport\u001b[0m \u001b[0mxml\u001b[0m\u001b[0;34m.\u001b[0m\u001b[0metree\u001b[0m\u001b[0;34m.\u001b[0m\u001b[0mElementTree\u001b[0m \u001b[0;32mas\u001b[0m \u001b[0mET\u001b[0m\u001b[0;34m\u001b[0m\u001b[0;34m\u001b[0m\u001b[0m\n\u001b[1;32m      3\u001b[0m \u001b[0;34m\u001b[0m\u001b[0m\n\u001b[0;32m----> 4\u001b[0;31m \u001b[0murl\u001b[0m \u001b[0;34m=\u001b[0m \u001b[0minput\u001b[0m \u001b[0;34m(\u001b[0m\u001b[0;34m'Enter url: '\u001b[0m\u001b[0;34m)\u001b[0m\u001b[0;34m\u001b[0m\u001b[0;34m\u001b[0m\u001b[0m\n\u001b[0m\u001b[1;32m      5\u001b[0m \u001b[0mprint\u001b[0m\u001b[0;34m(\u001b[0m\u001b[0;34m'Retrieving'\u001b[0m\u001b[0;34m,\u001b[0m \u001b[0murl\u001b[0m\u001b[0;34m)\u001b[0m\u001b[0;34m\u001b[0m\u001b[0;34m\u001b[0m\u001b[0m\n\u001b[1;32m      6\u001b[0m \u001b[0;34m\u001b[0m\u001b[0m\n",
            "\u001b[0;32m/usr/local/lib/python3.8/dist-packages/ipykernel/kernelbase.py\u001b[0m in \u001b[0;36mraw_input\u001b[0;34m(self, prompt)\u001b[0m\n\u001b[1;32m    858\u001b[0m                 \u001b[0;34m\"raw_input was called, but this frontend does not support input requests.\"\u001b[0m\u001b[0;34m\u001b[0m\u001b[0;34m\u001b[0m\u001b[0m\n\u001b[1;32m    859\u001b[0m             )\n\u001b[0;32m--> 860\u001b[0;31m         return self._input_request(str(prompt),\n\u001b[0m\u001b[1;32m    861\u001b[0m             \u001b[0mself\u001b[0m\u001b[0;34m.\u001b[0m\u001b[0m_parent_ident\u001b[0m\u001b[0;34m,\u001b[0m\u001b[0;34m\u001b[0m\u001b[0;34m\u001b[0m\u001b[0m\n\u001b[1;32m    862\u001b[0m             \u001b[0mself\u001b[0m\u001b[0;34m.\u001b[0m\u001b[0m_parent_header\u001b[0m\u001b[0;34m,\u001b[0m\u001b[0;34m\u001b[0m\u001b[0;34m\u001b[0m\u001b[0m\n",
            "\u001b[0;32m/usr/local/lib/python3.8/dist-packages/ipykernel/kernelbase.py\u001b[0m in \u001b[0;36m_input_request\u001b[0;34m(self, prompt, ident, parent, password)\u001b[0m\n\u001b[1;32m    902\u001b[0m             \u001b[0;32mexcept\u001b[0m \u001b[0mKeyboardInterrupt\u001b[0m\u001b[0;34m:\u001b[0m\u001b[0;34m\u001b[0m\u001b[0;34m\u001b[0m\u001b[0m\n\u001b[1;32m    903\u001b[0m                 \u001b[0;31m# re-raise KeyboardInterrupt, to truncate traceback\u001b[0m\u001b[0;34m\u001b[0m\u001b[0;34m\u001b[0m\u001b[0;34m\u001b[0m\u001b[0m\n\u001b[0;32m--> 904\u001b[0;31m                 \u001b[0;32mraise\u001b[0m \u001b[0mKeyboardInterrupt\u001b[0m\u001b[0;34m(\u001b[0m\u001b[0;34m\"Interrupted by user\"\u001b[0m\u001b[0;34m)\u001b[0m \u001b[0;32mfrom\u001b[0m \u001b[0;32mNone\u001b[0m\u001b[0;34m\u001b[0m\u001b[0;34m\u001b[0m\u001b[0m\n\u001b[0m\u001b[1;32m    905\u001b[0m             \u001b[0;32mexcept\u001b[0m \u001b[0mException\u001b[0m \u001b[0;32mas\u001b[0m \u001b[0me\u001b[0m\u001b[0;34m:\u001b[0m\u001b[0;34m\u001b[0m\u001b[0;34m\u001b[0m\u001b[0m\n\u001b[1;32m    906\u001b[0m                 \u001b[0mself\u001b[0m\u001b[0;34m.\u001b[0m\u001b[0mlog\u001b[0m\u001b[0;34m.\u001b[0m\u001b[0mwarning\u001b[0m\u001b[0;34m(\u001b[0m\u001b[0;34m\"Invalid Message:\"\u001b[0m\u001b[0;34m,\u001b[0m \u001b[0mexc_info\u001b[0m\u001b[0;34m=\u001b[0m\u001b[0;32mTrue\u001b[0m\u001b[0;34m)\u001b[0m\u001b[0;34m\u001b[0m\u001b[0;34m\u001b[0m\u001b[0m\n",
            "\u001b[0;31mKeyboardInterrupt\u001b[0m: Interrupted by user"
          ]
        }
      ]
    },
    {
      "cell_type": "code",
      "source": [
        "import urllib.request, json\n",
        "\n",
        "address = input('Enter location: ')\n",
        "print('Retrieving', address)\n",
        "with urllib.request.urlopen(address) as url:\n",
        "    raw = json.loads(url.read().decode())\n",
        "\n",
        "print('Retrieved', len(str(raw)), 'characters')\n",
        "data = raw.get(\"comments\")\n",
        "#print(data)\n",
        "num = total = 0\n",
        "for i in range(len(data)):\n",
        "    tmp = data[i]\n",
        "    value = tmp.get(\"count\")\n",
        "    num = num + 1\n",
        "    total = total + int(value)\n",
        "print(\"Count:\",num)\n",
        "print(\"Sum:\",total)"
      ],
      "metadata": {
        "colab": {
          "base_uri": "https://localhost:8080/",
          "height": 380
        },
        "id": "k0n2FFeepe0a",
        "outputId": "d200c88d-ca28-47dd-8924-77488acbe652"
      },
      "execution_count": 15,
      "outputs": [
        {
          "output_type": "error",
          "ename": "KeyboardInterrupt",
          "evalue": "ignored",
          "traceback": [
            "\u001b[0;31m---------------------------------------------------------------------------\u001b[0m",
            "\u001b[0;31mKeyboardInterrupt\u001b[0m                         Traceback (most recent call last)",
            "\u001b[0;32m<ipython-input-15-bd62845a05b3>\u001b[0m in \u001b[0;36m<module>\u001b[0;34m\u001b[0m\n\u001b[1;32m      1\u001b[0m \u001b[0;32mimport\u001b[0m \u001b[0murllib\u001b[0m\u001b[0;34m.\u001b[0m\u001b[0mrequest\u001b[0m\u001b[0;34m,\u001b[0m \u001b[0mjson\u001b[0m\u001b[0;34m\u001b[0m\u001b[0;34m\u001b[0m\u001b[0m\n\u001b[1;32m      2\u001b[0m \u001b[0;34m\u001b[0m\u001b[0m\n\u001b[0;32m----> 3\u001b[0;31m \u001b[0maddress\u001b[0m \u001b[0;34m=\u001b[0m \u001b[0minput\u001b[0m\u001b[0;34m(\u001b[0m\u001b[0;34m'Enter location: '\u001b[0m\u001b[0;34m)\u001b[0m\u001b[0;34m\u001b[0m\u001b[0;34m\u001b[0m\u001b[0m\n\u001b[0m\u001b[1;32m      4\u001b[0m \u001b[0mprint\u001b[0m\u001b[0;34m(\u001b[0m\u001b[0;34m'Retrieving'\u001b[0m\u001b[0;34m,\u001b[0m \u001b[0maddress\u001b[0m\u001b[0;34m)\u001b[0m\u001b[0;34m\u001b[0m\u001b[0;34m\u001b[0m\u001b[0m\n\u001b[1;32m      5\u001b[0m \u001b[0;32mwith\u001b[0m \u001b[0murllib\u001b[0m\u001b[0;34m.\u001b[0m\u001b[0mrequest\u001b[0m\u001b[0;34m.\u001b[0m\u001b[0murlopen\u001b[0m\u001b[0;34m(\u001b[0m\u001b[0maddress\u001b[0m\u001b[0;34m)\u001b[0m \u001b[0;32mas\u001b[0m \u001b[0murl\u001b[0m\u001b[0;34m:\u001b[0m\u001b[0;34m\u001b[0m\u001b[0;34m\u001b[0m\u001b[0m\n",
            "\u001b[0;32m/usr/local/lib/python3.8/dist-packages/ipykernel/kernelbase.py\u001b[0m in \u001b[0;36mraw_input\u001b[0;34m(self, prompt)\u001b[0m\n\u001b[1;32m    858\u001b[0m                 \u001b[0;34m\"raw_input was called, but this frontend does not support input requests.\"\u001b[0m\u001b[0;34m\u001b[0m\u001b[0;34m\u001b[0m\u001b[0m\n\u001b[1;32m    859\u001b[0m             )\n\u001b[0;32m--> 860\u001b[0;31m         return self._input_request(str(prompt),\n\u001b[0m\u001b[1;32m    861\u001b[0m             \u001b[0mself\u001b[0m\u001b[0;34m.\u001b[0m\u001b[0m_parent_ident\u001b[0m\u001b[0;34m,\u001b[0m\u001b[0;34m\u001b[0m\u001b[0;34m\u001b[0m\u001b[0m\n\u001b[1;32m    862\u001b[0m             \u001b[0mself\u001b[0m\u001b[0;34m.\u001b[0m\u001b[0m_parent_header\u001b[0m\u001b[0;34m,\u001b[0m\u001b[0;34m\u001b[0m\u001b[0;34m\u001b[0m\u001b[0m\n",
            "\u001b[0;32m/usr/local/lib/python3.8/dist-packages/ipykernel/kernelbase.py\u001b[0m in \u001b[0;36m_input_request\u001b[0;34m(self, prompt, ident, parent, password)\u001b[0m\n\u001b[1;32m    902\u001b[0m             \u001b[0;32mexcept\u001b[0m \u001b[0mKeyboardInterrupt\u001b[0m\u001b[0;34m:\u001b[0m\u001b[0;34m\u001b[0m\u001b[0;34m\u001b[0m\u001b[0m\n\u001b[1;32m    903\u001b[0m                 \u001b[0;31m# re-raise KeyboardInterrupt, to truncate traceback\u001b[0m\u001b[0;34m\u001b[0m\u001b[0;34m\u001b[0m\u001b[0;34m\u001b[0m\u001b[0m\n\u001b[0;32m--> 904\u001b[0;31m                 \u001b[0;32mraise\u001b[0m \u001b[0mKeyboardInterrupt\u001b[0m\u001b[0;34m(\u001b[0m\u001b[0;34m\"Interrupted by user\"\u001b[0m\u001b[0;34m)\u001b[0m \u001b[0;32mfrom\u001b[0m \u001b[0;32mNone\u001b[0m\u001b[0;34m\u001b[0m\u001b[0;34m\u001b[0m\u001b[0m\n\u001b[0m\u001b[1;32m    905\u001b[0m             \u001b[0;32mexcept\u001b[0m \u001b[0mException\u001b[0m \u001b[0;32mas\u001b[0m \u001b[0me\u001b[0m\u001b[0;34m:\u001b[0m\u001b[0;34m\u001b[0m\u001b[0;34m\u001b[0m\u001b[0m\n\u001b[1;32m    906\u001b[0m                 \u001b[0mself\u001b[0m\u001b[0;34m.\u001b[0m\u001b[0mlog\u001b[0m\u001b[0;34m.\u001b[0m\u001b[0mwarning\u001b[0m\u001b[0;34m(\u001b[0m\u001b[0;34m\"Invalid Message:\"\u001b[0m\u001b[0;34m,\u001b[0m \u001b[0mexc_info\u001b[0m\u001b[0;34m=\u001b[0m\u001b[0;32mTrue\u001b[0m\u001b[0;34m)\u001b[0m\u001b[0;34m\u001b[0m\u001b[0;34m\u001b[0m\u001b[0m\n",
            "\u001b[0;31mKeyboardInterrupt\u001b[0m: Interrupted by user"
          ]
        }
      ]
    },
    {
      "cell_type": "code",
      "source": [
        "import urllib.request, urllib.parse, urllib.error\n",
        "import json\n",
        "import ssl\n",
        "\n",
        "api_key = False\n",
        "\n",
        "if api_key is False:\n",
        "    api_key = 42\n",
        "    serviceurl = 'http://py4e-data.dr-chuck.net/json?'\n",
        "else :\n",
        "    serviceurl = 'https://maps.googleapis.com/maps/api/geocode/json?'\n",
        "\n",
        "# Ignore SSL certificate errors\n",
        "ctx = ssl.create_default_context()\n",
        "ctx.check_hostname = False\n",
        "ctx.verify_mode = ssl.CERT_NONE\n",
        "\n",
        "while True:\n",
        "    address = input('Enter location: ')\n",
        "    if len(address) < 1: break\n",
        "\n",
        "    parms = dict()\n",
        "    parms['address'] = address\n",
        "    if api_key is not False: parms['key'] = api_key\n",
        "    url = serviceurl + urllib.parse.urlencode(parms)\n",
        "\n",
        "    print('Retrieving', url)\n",
        "    uh = urllib.request.urlopen(url, context=ctx)\n",
        "    data = uh.read().decode()\n",
        "    print('Retrieved', len(data), 'characters')\n",
        "\n",
        "    try:\n",
        "        js = json.loads(data)\n",
        "    except:\n",
        "        js = None\n",
        "\n",
        "    if not js or 'status' not in js or js['status'] != 'OK':\n",
        "        print('==== Failure To Retrieve ====')\n",
        "        print(data)\n",
        "        continue\n",
        "\n",
        "    # print(json.dumps(js, indent=4))\n",
        "\n",
        "    pid = js['results'][0]['place_id']\n",
        "    print('Place id ',pid)"
      ],
      "metadata": {
        "colab": {
          "base_uri": "https://localhost:8080/"
        },
        "id": "J_eHqAp1qKUt",
        "outputId": "0ceb4c4b-1306-4337-9616-933fa117454c"
      },
      "execution_count": null,
      "outputs": [
        {
          "output_type": "stream",
          "name": "stdout",
          "text": [
            "Enter location: https://www.py4e.com/code3/geojson.py?PHPSESSID=e840688e5cf6aa46bb337ee9309e1204\n",
            "Retrieving http://py4e-data.dr-chuck.net/json?address=https%3A%2F%2Fwww.py4e.com%2Fcode3%2Fgeojson.py%3FPHPSESSID%3De840688e5cf6aa46bb337ee9309e1204&key=42\n",
            "Retrieved 36 characters\n",
            "==== Failure To Retrieve ====\n",
            "{ \"address\": \"fail\", \"answer\" : 42 }\n",
            "Enter location: http://py4e-data.dr-chuck.net/json?\n",
            "Retrieving http://py4e-data.dr-chuck.net/json?address=http%3A%2F%2Fpy4e-data.dr-chuck.net%2Fjson%3F&key=42\n",
            "Retrieved 36 characters\n",
            "==== Failure To Retrieve ====\n",
            "{ \"address\": \"fail\", \"answer\" : 42 }\n",
            "Enter location: https://www.py4e.com/code3/geojson.py?PHPSESSID=e840688e5cf6aa46bb337ee9309e1204\n",
            "Retrieving http://py4e-data.dr-chuck.net/json?address=https%3A%2F%2Fwww.py4e.com%2Fcode3%2Fgeojson.py%3FPHPSESSID%3De840688e5cf6aa46bb337ee9309e1204&key=42\n",
            "Retrieved 36 characters\n",
            "==== Failure To Retrieve ====\n",
            "{ \"address\": \"fail\", \"answer\" : 42 }\n",
            "Enter location: ChIJNeHD4p-540AR2Q0_ZjwmKJ8\n",
            "Retrieving http://py4e-data.dr-chuck.net/json?address=ChIJNeHD4p-540AR2Q0_ZjwmKJ8&key=42\n",
            "Retrieved 52 characters\n",
            "==== Failure To Retrieve ====\n",
            "{\n",
            "   \"results\" : [],\n",
            "   \"status\" : \"ZERO_RESULTS\"\n",
            "}\n",
            "\n",
            "Enter location: ChIJNeHD4p-540AR2Q0_ZjwmKJ8\n",
            "Retrieving http://py4e-data.dr-chuck.net/json?address=ChIJNeHD4p-540AR2Q0_ZjwmKJ8&key=42\n",
            "Retrieved 52 characters\n",
            "==== Failure To Retrieve ====\n",
            "{\n",
            "   \"results\" : [],\n",
            "   \"status\" : \"ZERO_RESULTS\"\n",
            "}\n",
            "\n",
            "Enter location: South Federal University\n",
            "Retrieving http://py4e-data.dr-chuck.net/json?address=South+Federal+University&key=42\n",
            "Retrieved 2443 characters\n",
            "Place id  ChIJNeHD4p-540AR2Q0_ZjwmKJ8\n",
            "Enter location: Distant University of Hagen\n",
            "Retrieving http://py4e-data.dr-chuck.net/json?address=Distant+University+of+Hagen&key=42\n",
            "Retrieved 2312 characters\n",
            "Place id  ChIJ8wUUXmY8uUcRB0W-usk4yB0\n"
          ]
        }
      ]
    }
  ]
}